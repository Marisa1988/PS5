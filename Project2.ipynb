{
 "cells": [
  {
   "cell_type": "code",
   "execution_count": 17,
   "id": "3454d5a2-8545-43fd-97e0-a6c2e3dcd241",
   "metadata": {
    "tags": []
   },
   "outputs": [
    {
     "name": "stdout",
     "output_type": "stream",
     "text": [
      "['city', 'country', 'countrylanguage', 'sqlite_sequence']\n"
     ]
    }
   ],
   "source": [
    "from sqlalchemy import create_engine, inspect\n",
    "\n",
    "# Create an engine to connect to the database\n",
    "engine = create_engine('sqlite:////blue/bsc4452/Marisa1988/project-2-deitzmorales/world.sqlite')\n",
    "\n",
    "# Use the inspect module to get table names\n",
    "inspector = inspect(engine)\n",
    "tables = inspector.get_table_names()\n",
    "\n",
    "print(tables)"
   ]
  },
  {
   "cell_type": "code",
   "execution_count": null,
   "id": "1b01557c-1026-4e36-8f6f-87b1f14a754e",
   "metadata": {},
   "outputs": [],
   "source": [
    "from sqlalchemy import create_engine, Column, String, Float, Integer\n",
    "from sqlalchemy.ext.declarative import declarative_base\n",
    "from sqlalchemy.orm import sessionmaker\n",
    "\n",
    "# Define the base class for declarative models\n",
    "Base = declarative_base()\n",
    "\n",
    "# Define the CountryLanguage table model\n",
    "class CountryLanguage(Base):\n",
    "    __tablename__ = 'CountryLanguage'\n",
    "    CountryCode = Column(String, primary_key=True)\n",
    "    Language = Column(String, primary_key=True)\n",
    "    IsOfficial = Column(String)\n",
    "    Percentage = Column(Float)\n",
    "\n",
    "# Create an engine to connect to the database\n",
    "engine = create_engine('sqlite:////blue/bsc4452/Marisa1988/project-2-deitzmorales/world.sqlite')\n",
    "\n",
    "# Create a session factory\n",
    "Session = sessionmaker(bind=engine)\n",
    "session = Session()\n",
    "\n",
    "# Query the CountryLanguage table\n",
    "languages = session.query(CountryLanguage).all()\n",
    "\n",
    "# Print the information\n",
    "for language in languages:\n",
    "    print(f\"CountryCode: {language.CountryCode}, Language: {language.Language}, IsOfficial: {language.IsOfficial}, Percentage: {language.Percentage}\")"
   ]
  },
  {
   "cell_type": "code",
   "execution_count": 5,
   "id": "b53212a6-71bb-4e2e-86d5-5318643275de",
   "metadata": {
    "tags": []
   },
   "outputs": [
    {
     "data": {
      "image/png": "[encoded data removed]",
      "text/plain": [
       "<Figure size 864x576 with 1 Axes>"
      ]
     },
     "metadata": {
      "needs_background": "light"
     },
     "output_type": "display_data"
    }
   ],
   "source": [
    "import matplotlib.pyplot as plt\n",
    "from sqlalchemy import create_engine, Column, String, Float\n",
    "from sqlalchemy.ext.declarative import declarative_base\n",
    "from sqlalchemy.orm import sessionmaker\n",
    "from collections import Counter\n",
    "\n",
    "# Define the base class for declarative models\n",
    "Base = declarative_base()\n",
    "\n",
    "# Define the CountryLanguage table model\n",
    "class CountryLanguage(Base):\n",
    "    __tablename__ = 'CountryLanguage'\n",
    "    CountryCode = Column(String, primary_key=True)\n",
    "    Language = Column(String, primary_key=True)\n",
    "    IsOfficial = Column(String)\n",
    "    Percentage = Column(Float)\n",
    "\n",
    "# Create an engine to connect to the database\n",
    "engine = create_engine('sqlite:////blue/bsc4452/Marisa1988/project-2-deitzmorales/world.sqlite')\n",
    "\n",
    "# Create a session factory\n",
    "Session = sessionmaker(bind=engine)\n",
    "session = Session()\n",
    "\n",
    "# Query the CountryLanguage table\n",
    "languages = session.query(CountryLanguage).all()\n",
    "\n",
    "# Count the number of countries for each language\n",
    "language_counter = Counter([language.Language for language in languages])\n",
    "\n",
    "# Get the top 25 major languages by country count\n",
    "top_25_languages = language_counter.most_common(25)\n",
    "\n",
    "# Prepare data for plotting\n",
    "languages = [language for language, count in top_25_languages]\n",
    "country_counts = [count for language, count in top_25_languages]\n",
    "\n",
    "# Create a bar plot\n",
    "plt.figure(figsize=(12, 8))\n",
    "plt.bar(languages, country_counts, color='skyblue')\n",
    "plt.xlabel('Languages')\n",
    "plt.ylabel('Country Count')\n",
    "plt.title('Top 25 Major Languages by Number of Countries')\n",
    "plt.xticks(rotation=90)\n",
    "plt.tight_layout()\n",
    "\n",
    "# Show the plot\n",
    "plt.show()"
   ]
  },
  {
   "cell_type": "code",
   "execution_count": 13,
   "id": "13852a09-e795-455f-9c0f-ee147b366a9b",
   "metadata": {
    "tags": []
   },
   "outputs": [],
   "source": [
    "from sqlalchemy import create_engine, Column, String, Integer, Table, MetaData, select\n",
    "from sqlalchemy.orm import sessionmaker\n",
    "\n",
    "# Define your database connection\n",
    "engine = create_engine('sqlite:////blue/bsc4452/Marisa1988/project-2-deitzmorales/world.sqlite')\n",
    "Session = sessionmaker(bind=engine)\n",
    "session = Session()\n",
    "metadata = MetaData()\n",
    "\n",
    "# Define the existing tables\n",
    "country_language = Table('CountryLanguage', metadata,\n",
    "                         Column('Language', String),\n",
    "                         Column('CountryCode', String))  # Ensure CountryCode is defined\n",
    "\n",
    "city = Table('City', metadata,\n",
    "             Column('Name', String),\n",
    "             Column('CountryCode', String))\n",
    "\n",
    "# Define the new table with an auto-incrementing ID, using extend_existing=True\n",
    "city_language = Table('CityLanguage', metadata,\n",
    "                      Column('ID', Integer, primary_key=True, autoincrement=True),\n",
    "                      Column('Language', String),\n",
    "                      Column('Name', String),  # Ensure Name is defined\n",
    "                      Column('CountryCode', String),\n",
    "                      extend_existing=True)\n",
    "\n",
    "# Create the new table in the database\n",
    "metadata.create_all(engine)\n",
    "\n",
    "# Perform the join and insert into the new table\n",
    "stmt = select([country_language.c.Language, city.c.Name, city.c.CountryCode]).\\\n",
    "    select_from(country_language.join(city, country_language.c.CountryCode == city.c.CountryCode))\n",
    "\n",
    "results = session.execute(stmt).fetchall()\n",
    "\n",
    "# Insert the results into the new table\n",
    "for row in results:\n",
    "    insert_stmt = city_language.insert().values(Language=row.Language, Name=row.Name, CountryCode=row.CountryCode)\n",
    "    session.execute(insert_stmt)\n",
    "\n",
    "# Commit the transaction\n",
    "session.commit()\n",
    "\n",
    "# Close the session\n",
    "session.close()"
   ]
  },
  {
   "cell_type": "code",
   "execution_count": null,
   "id": "b7dac985-d2b4-425e-ad25-9a0d5a7050d1",
   "metadata": {},
   "outputs": [],
   "source": []
  }
 ],
 "metadata": {
  "kernelspec": {
   "display_name": "UFRC Python-3.10",
   "language": "python",
   "name": "python3-3.10-ufrc"
  },
  "language_info": {
   "codemirror_mode": {
    "name": "ipython",
    "version": 3
   },
   "file_extension": ".py",
   "mimetype": "text/x-python",
   "name": "python",
   "nbconvert_exporter": "python",
   "pygments_lexer": "ipython3",
   "version": "3.10.8"
  }
 },
 "nbformat": 4,
 "nbformat_minor": 5
}
